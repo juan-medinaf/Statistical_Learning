{
  "nbformat": 4,
  "nbformat_minor": 0,
  "metadata": {
    "colab": {
      "provenance": []
    },
    "kernelspec": {
      "name": "python3",
      "display_name": "Python 3"
    },
    "language_info": {
      "name": "python"
    }
  },
  "cells": [
    {
      "cell_type": "code",
      "execution_count": null,
      "metadata": {
        "id": "y1jp8eglv0jX"
      },
      "outputs": [],
      "source": [
        "import pandas as pd\n",
        "import numpy as np\n",
        "from google.colab import files\n",
        "import io\n",
        "from sklearn.model_selection import train_test_split\n",
        "from xgboost import XGBClassifier\n",
        "from sklearn.preprocessing import StandardScaler\n",
        "from sklearn.metrics import classification_report, accuracy_score\n",
        "from sklearn.model_selection import GridSearchCV\n",
        "from sklearn.metrics import roc_auc_score\n",
        "from scipy.stats import mode"
      ]
    },
    {
      "cell_type": "code",
      "source": [
        "pip install category_encoders"
      ],
      "metadata": {
        "colab": {
          "base_uri": "https://localhost:8080/"
        },
        "id": "BrhMGGJr43JI",
        "outputId": "5e12c8ff-790d-403b-b36d-4f70c7844621"
      },
      "execution_count": null,
      "outputs": [
        {
          "output_type": "stream",
          "name": "stdout",
          "text": [
            "Collecting category_encoders\n",
            "  Downloading category_encoders-2.6.3-py2.py3-none-any.whl (81 kB)\n",
            "\u001b[?25l     \u001b[90m━━━━━━━━━━━━━━━━━━━━━━━━━━━━━━━━━━━━━━━━\u001b[0m \u001b[32m0.0/81.9 kB\u001b[0m \u001b[31m?\u001b[0m eta \u001b[36m-:--:--\u001b[0m\r\u001b[2K     \u001b[91m━━━━━━━━━━━━━━━━━━━━━━━━━━━━━━━━━━━\u001b[0m\u001b[90m╺\u001b[0m\u001b[90m━━━━\u001b[0m \u001b[32m71.7/81.9 kB\u001b[0m \u001b[31m2.0 MB/s\u001b[0m eta \u001b[36m0:00:01\u001b[0m\r\u001b[2K     \u001b[90m━━━━━━━━━━━━━━━━━━━━━━━━━━━━━━━━━━━━━━━━\u001b[0m \u001b[32m81.9/81.9 kB\u001b[0m \u001b[31m1.8 MB/s\u001b[0m eta \u001b[36m0:00:00\u001b[0m\n",
            "\u001b[?25hRequirement already satisfied: numpy>=1.14.0 in /usr/local/lib/python3.10/dist-packages (from category_encoders) (1.25.2)\n",
            "Requirement already satisfied: scikit-learn>=0.20.0 in /usr/local/lib/python3.10/dist-packages (from category_encoders) (1.2.2)\n",
            "Requirement already satisfied: scipy>=1.0.0 in /usr/local/lib/python3.10/dist-packages (from category_encoders) (1.11.4)\n",
            "Requirement already satisfied: statsmodels>=0.9.0 in /usr/local/lib/python3.10/dist-packages (from category_encoders) (0.14.1)\n",
            "Requirement already satisfied: pandas>=1.0.5 in /usr/local/lib/python3.10/dist-packages (from category_encoders) (2.0.3)\n",
            "Requirement already satisfied: patsy>=0.5.1 in /usr/local/lib/python3.10/dist-packages (from category_encoders) (0.5.6)\n",
            "Requirement already satisfied: python-dateutil>=2.8.2 in /usr/local/lib/python3.10/dist-packages (from pandas>=1.0.5->category_encoders) (2.8.2)\n",
            "Requirement already satisfied: pytz>=2020.1 in /usr/local/lib/python3.10/dist-packages (from pandas>=1.0.5->category_encoders) (2023.4)\n",
            "Requirement already satisfied: tzdata>=2022.1 in /usr/local/lib/python3.10/dist-packages (from pandas>=1.0.5->category_encoders) (2024.1)\n",
            "Requirement already satisfied: six in /usr/local/lib/python3.10/dist-packages (from patsy>=0.5.1->category_encoders) (1.16.0)\n",
            "Requirement already satisfied: joblib>=1.1.1 in /usr/local/lib/python3.10/dist-packages (from scikit-learn>=0.20.0->category_encoders) (1.3.2)\n",
            "Requirement already satisfied: threadpoolctl>=2.0.0 in /usr/local/lib/python3.10/dist-packages (from scikit-learn>=0.20.0->category_encoders) (3.4.0)\n",
            "Requirement already satisfied: packaging>=21.3 in /usr/local/lib/python3.10/dist-packages (from statsmodels>=0.9.0->category_encoders) (24.0)\n",
            "Installing collected packages: category_encoders\n",
            "Successfully installed category_encoders-2.6.3\n"
          ]
        }
      ]
    },
    {
      "cell_type": "code",
      "source": [
        "from imblearn.over_sampling import SMOTE"
      ],
      "metadata": {
        "id": "LrwxUre56be6"
      },
      "execution_count": null,
      "outputs": []
    },
    {
      "cell_type": "code",
      "source": [
        "import category_encoders"
      ],
      "metadata": {
        "id": "FggZjX3j5ToT"
      },
      "execution_count": null,
      "outputs": []
    },
    {
      "cell_type": "code",
      "source": [
        "!pip install shap\n",
        "import shap"
      ],
      "metadata": {
        "colab": {
          "base_uri": "https://localhost:8080/"
        },
        "id": "f5-CUV-uxpJ-",
        "outputId": "6e5340be-ae10-4589-b188-a573ed102776"
      },
      "execution_count": null,
      "outputs": [
        {
          "output_type": "stream",
          "name": "stdout",
          "text": [
            "Collecting shap\n",
            "  Downloading shap-0.45.0-cp310-cp310-manylinux_2_12_x86_64.manylinux2010_x86_64.manylinux_2_17_x86_64.manylinux2014_x86_64.whl (538 kB)\n",
            "\u001b[2K     \u001b[90m━━━━━━━━━━━━━━━━━━━━━━━━━━━━━━━━━━━━━━━━\u001b[0m \u001b[32m538.2/538.2 kB\u001b[0m \u001b[31m8.4 MB/s\u001b[0m eta \u001b[36m0:00:00\u001b[0m\n",
            "\u001b[?25hRequirement already satisfied: numpy in /usr/local/lib/python3.10/dist-packages (from shap) (1.25.2)\n",
            "Requirement already satisfied: scipy in /usr/local/lib/python3.10/dist-packages (from shap) (1.11.4)\n",
            "Requirement already satisfied: scikit-learn in /usr/local/lib/python3.10/dist-packages (from shap) (1.2.2)\n",
            "Requirement already satisfied: pandas in /usr/local/lib/python3.10/dist-packages (from shap) (2.0.3)\n",
            "Requirement already satisfied: tqdm>=4.27.0 in /usr/local/lib/python3.10/dist-packages (from shap) (4.66.2)\n",
            "Requirement already satisfied: packaging>20.9 in /usr/local/lib/python3.10/dist-packages (from shap) (24.0)\n",
            "Collecting slicer==0.0.7 (from shap)\n",
            "  Downloading slicer-0.0.7-py3-none-any.whl (14 kB)\n",
            "Requirement already satisfied: numba in /usr/local/lib/python3.10/dist-packages (from shap) (0.58.1)\n",
            "Requirement already satisfied: cloudpickle in /usr/local/lib/python3.10/dist-packages (from shap) (2.2.1)\n",
            "Requirement already satisfied: llvmlite<0.42,>=0.41.0dev0 in /usr/local/lib/python3.10/dist-packages (from numba->shap) (0.41.1)\n",
            "Requirement already satisfied: python-dateutil>=2.8.2 in /usr/local/lib/python3.10/dist-packages (from pandas->shap) (2.8.2)\n",
            "Requirement already satisfied: pytz>=2020.1 in /usr/local/lib/python3.10/dist-packages (from pandas->shap) (2023.4)\n",
            "Requirement already satisfied: tzdata>=2022.1 in /usr/local/lib/python3.10/dist-packages (from pandas->shap) (2024.1)\n",
            "Requirement already satisfied: joblib>=1.1.1 in /usr/local/lib/python3.10/dist-packages (from scikit-learn->shap) (1.3.2)\n",
            "Requirement already satisfied: threadpoolctl>=2.0.0 in /usr/local/lib/python3.10/dist-packages (from scikit-learn->shap) (3.4.0)\n",
            "Requirement already satisfied: six>=1.5 in /usr/local/lib/python3.10/dist-packages (from python-dateutil>=2.8.2->pandas->shap) (1.16.0)\n",
            "Installing collected packages: slicer, shap\n",
            "Successfully installed shap-0.45.0 slicer-0.0.7\n"
          ]
        }
      ]
    },
    {
      "cell_type": "code",
      "source": [
        "imported= files.upload()"
      ],
      "metadata": {
        "colab": {
          "base_uri": "https://localhost:8080/",
          "height": 111
        },
        "id": "i39ik1uCIwZj",
        "outputId": "147bf315-fe65-4ca8-879f-210f025182c9"
      },
      "execution_count": null,
      "outputs": [
        {
          "output_type": "display_data",
          "data": {
            "text/plain": [
              "<IPython.core.display.HTML object>"
            ],
            "text/html": [
              "\n",
              "     <input type=\"file\" id=\"files-6168046b-c03d-447b-af37-bf96ef4dfee7\" name=\"files[]\" multiple disabled\n",
              "        style=\"border:none\" />\n",
              "     <output id=\"result-6168046b-c03d-447b-af37-bf96ef4dfee7\">\n",
              "      Upload widget is only available when the cell has been executed in the\n",
              "      current browser session. Please rerun this cell to enable.\n",
              "      </output>\n",
              "      <script>// Copyright 2017 Google LLC\n",
              "//\n",
              "// Licensed under the Apache License, Version 2.0 (the \"License\");\n",
              "// you may not use this file except in compliance with the License.\n",
              "// You may obtain a copy of the License at\n",
              "//\n",
              "//      http://www.apache.org/licenses/LICENSE-2.0\n",
              "//\n",
              "// Unless required by applicable law or agreed to in writing, software\n",
              "// distributed under the License is distributed on an \"AS IS\" BASIS,\n",
              "// WITHOUT WARRANTIES OR CONDITIONS OF ANY KIND, either express or implied.\n",
              "// See the License for the specific language governing permissions and\n",
              "// limitations under the License.\n",
              "\n",
              "/**\n",
              " * @fileoverview Helpers for google.colab Python module.\n",
              " */\n",
              "(function(scope) {\n",
              "function span(text, styleAttributes = {}) {\n",
              "  const element = document.createElement('span');\n",
              "  element.textContent = text;\n",
              "  for (const key of Object.keys(styleAttributes)) {\n",
              "    element.style[key] = styleAttributes[key];\n",
              "  }\n",
              "  return element;\n",
              "}\n",
              "\n",
              "// Max number of bytes which will be uploaded at a time.\n",
              "const MAX_PAYLOAD_SIZE = 100 * 1024;\n",
              "\n",
              "function _uploadFiles(inputId, outputId) {\n",
              "  const steps = uploadFilesStep(inputId, outputId);\n",
              "  const outputElement = document.getElementById(outputId);\n",
              "  // Cache steps on the outputElement to make it available for the next call\n",
              "  // to uploadFilesContinue from Python.\n",
              "  outputElement.steps = steps;\n",
              "\n",
              "  return _uploadFilesContinue(outputId);\n",
              "}\n",
              "\n",
              "// This is roughly an async generator (not supported in the browser yet),\n",
              "// where there are multiple asynchronous steps and the Python side is going\n",
              "// to poll for completion of each step.\n",
              "// This uses a Promise to block the python side on completion of each step,\n",
              "// then passes the result of the previous step as the input to the next step.\n",
              "function _uploadFilesContinue(outputId) {\n",
              "  const outputElement = document.getElementById(outputId);\n",
              "  const steps = outputElement.steps;\n",
              "\n",
              "  const next = steps.next(outputElement.lastPromiseValue);\n",
              "  return Promise.resolve(next.value.promise).then((value) => {\n",
              "    // Cache the last promise value to make it available to the next\n",
              "    // step of the generator.\n",
              "    outputElement.lastPromiseValue = value;\n",
              "    return next.value.response;\n",
              "  });\n",
              "}\n",
              "\n",
              "/**\n",
              " * Generator function which is called between each async step of the upload\n",
              " * process.\n",
              " * @param {string} inputId Element ID of the input file picker element.\n",
              " * @param {string} outputId Element ID of the output display.\n",
              " * @return {!Iterable<!Object>} Iterable of next steps.\n",
              " */\n",
              "function* uploadFilesStep(inputId, outputId) {\n",
              "  const inputElement = document.getElementById(inputId);\n",
              "  inputElement.disabled = false;\n",
              "\n",
              "  const outputElement = document.getElementById(outputId);\n",
              "  outputElement.innerHTML = '';\n",
              "\n",
              "  const pickedPromise = new Promise((resolve) => {\n",
              "    inputElement.addEventListener('change', (e) => {\n",
              "      resolve(e.target.files);\n",
              "    });\n",
              "  });\n",
              "\n",
              "  const cancel = document.createElement('button');\n",
              "  inputElement.parentElement.appendChild(cancel);\n",
              "  cancel.textContent = 'Cancel upload';\n",
              "  const cancelPromise = new Promise((resolve) => {\n",
              "    cancel.onclick = () => {\n",
              "      resolve(null);\n",
              "    };\n",
              "  });\n",
              "\n",
              "  // Wait for the user to pick the files.\n",
              "  const files = yield {\n",
              "    promise: Promise.race([pickedPromise, cancelPromise]),\n",
              "    response: {\n",
              "      action: 'starting',\n",
              "    }\n",
              "  };\n",
              "\n",
              "  cancel.remove();\n",
              "\n",
              "  // Disable the input element since further picks are not allowed.\n",
              "  inputElement.disabled = true;\n",
              "\n",
              "  if (!files) {\n",
              "    return {\n",
              "      response: {\n",
              "        action: 'complete',\n",
              "      }\n",
              "    };\n",
              "  }\n",
              "\n",
              "  for (const file of files) {\n",
              "    const li = document.createElement('li');\n",
              "    li.append(span(file.name, {fontWeight: 'bold'}));\n",
              "    li.append(span(\n",
              "        `(${file.type || 'n/a'}) - ${file.size} bytes, ` +\n",
              "        `last modified: ${\n",
              "            file.lastModifiedDate ? file.lastModifiedDate.toLocaleDateString() :\n",
              "                                    'n/a'} - `));\n",
              "    const percent = span('0% done');\n",
              "    li.appendChild(percent);\n",
              "\n",
              "    outputElement.appendChild(li);\n",
              "\n",
              "    const fileDataPromise = new Promise((resolve) => {\n",
              "      const reader = new FileReader();\n",
              "      reader.onload = (e) => {\n",
              "        resolve(e.target.result);\n",
              "      };\n",
              "      reader.readAsArrayBuffer(file);\n",
              "    });\n",
              "    // Wait for the data to be ready.\n",
              "    let fileData = yield {\n",
              "      promise: fileDataPromise,\n",
              "      response: {\n",
              "        action: 'continue',\n",
              "      }\n",
              "    };\n",
              "\n",
              "    // Use a chunked sending to avoid message size limits. See b/62115660.\n",
              "    let position = 0;\n",
              "    do {\n",
              "      const length = Math.min(fileData.byteLength - position, MAX_PAYLOAD_SIZE);\n",
              "      const chunk = new Uint8Array(fileData, position, length);\n",
              "      position += length;\n",
              "\n",
              "      const base64 = btoa(String.fromCharCode.apply(null, chunk));\n",
              "      yield {\n",
              "        response: {\n",
              "          action: 'append',\n",
              "          file: file.name,\n",
              "          data: base64,\n",
              "        },\n",
              "      };\n",
              "\n",
              "      let percentDone = fileData.byteLength === 0 ?\n",
              "          100 :\n",
              "          Math.round((position / fileData.byteLength) * 100);\n",
              "      percent.textContent = `${percentDone}% done`;\n",
              "\n",
              "    } while (position < fileData.byteLength);\n",
              "  }\n",
              "\n",
              "  // All done.\n",
              "  yield {\n",
              "    response: {\n",
              "      action: 'complete',\n",
              "    }\n",
              "  };\n",
              "}\n",
              "\n",
              "scope.google = scope.google || {};\n",
              "scope.google.colab = scope.google.colab || {};\n",
              "scope.google.colab._files = {\n",
              "  _uploadFiles,\n",
              "  _uploadFilesContinue,\n",
              "};\n",
              "})(self);\n",
              "</script> "
            ]
          },
          "metadata": {}
        },
        {
          "output_type": "stream",
          "name": "stdout",
          "text": [
            "Saving diabetes_binary_health_indicators_BRFSS2015 (1).csv to diabetes_binary_health_indicators_BRFSS2015 (1).csv\n"
          ]
        }
      ]
    },
    {
      "cell_type": "code",
      "source": [
        "df= pd.read_csv(io.BytesIO(imported['diabetes_binary_health_indicators_BRFSS2015 (1).csv']))"
      ],
      "metadata": {
        "id": "U4yuSYC5Jdk3"
      },
      "execution_count": null,
      "outputs": []
    },
    {
      "cell_type": "code",
      "source": [
        "#No missing values\n",
        "df.isnull().sum()"
      ],
      "metadata": {
        "colab": {
          "base_uri": "https://localhost:8080/"
        },
        "id": "3WB7LJ0IKuY2",
        "outputId": "e686c4ea-9192-4fb4-f15b-bd7393a24ef6"
      },
      "execution_count": null,
      "outputs": [
        {
          "output_type": "execute_result",
          "data": {
            "text/plain": [
              "Diabetes_binary         0\n",
              "HighBP                  0\n",
              "HighChol                0\n",
              "CholCheck               0\n",
              "BMI                     0\n",
              "Smoker                  0\n",
              "Stroke                  0\n",
              "HeartDiseaseorAttack    0\n",
              "PhysActivity            0\n",
              "Fruits                  0\n",
              "Veggies                 0\n",
              "HvyAlcoholConsump       0\n",
              "AnyHealthcare           0\n",
              "NoDocbcCost             0\n",
              "GenHlth                 0\n",
              "MentHlth                0\n",
              "PhysHlth                0\n",
              "DiffWalk                0\n",
              "Sex                     0\n",
              "Age                     0\n",
              "Education               0\n",
              "Income                  0\n",
              "dtype: int64"
            ]
          },
          "metadata": {},
          "execution_count": 8
        }
      ]
    },
    {
      "cell_type": "code",
      "source": [
        "#Code as integer\n",
        "for i in df:\n",
        "  df[i]=df[i].astype(int)"
      ],
      "metadata": {
        "id": "WfeazQ7XK6SR"
      },
      "execution_count": null,
      "outputs": []
    },
    {
      "cell_type": "code",
      "source": [
        "#Exploratory Analysis of binary variables\n",
        "for i in df:\n",
        "  if len(set(df[i]))==2:\n",
        "    print(f'Proportion of {i} = 1:',len(df[df[i]==1])/len(df))"
      ],
      "metadata": {
        "colab": {
          "base_uri": "https://localhost:8080/"
        },
        "id": "vT27z6dma1_x",
        "outputId": "816372b0-5a2d-4cdf-c900-6aafbbda3992"
      },
      "execution_count": null,
      "outputs": [
        {
          "output_type": "stream",
          "name": "stdout",
          "text": [
            "Proportion of Diabetes_binary = 1: 0.13933301797540207\n",
            "Proportion of HighBP = 1: 0.4290011037527594\n",
            "Proportion of HighChol = 1: 0.4241209397666351\n",
            "Proportion of CholCheck = 1: 0.9626695048880479\n",
            "Proportion of Smoker = 1: 0.44316855881425415\n",
            "Proportion of Stroke = 1: 0.04057079785556607\n",
            "Proportion of HeartDiseaseorAttack = 1: 0.09418558814254178\n",
            "Proportion of PhysActivity = 1: 0.7565436770734784\n",
            "Proportion of Fruits = 1: 0.6342557552822453\n",
            "Proportion of Veggies = 1: 0.811419899085462\n",
            "Proportion of HvyAlcoholConsump = 1: 0.05619678334910123\n",
            "Proportion of AnyHealthcare = 1: 0.9510525070955534\n",
            "Proportion of NoDocbcCost = 1: 0.08417691579943236\n",
            "Proportion of DiffWalk = 1: 0.16822374645222327\n",
            "Proportion of Sex = 1: 0.4403421633554084\n"
          ]
        }
      ]
    },
    {
      "cell_type": "code",
      "source": [
        "#Exploratory Analysis of Numeric Variables\n",
        "numeric_vars=['BMI','MentHlth','PhysHlth']\n",
        "for i in numeric_vars:\n",
        "  print(i, '\\n',df[i].describe(),'\\n')"
      ],
      "metadata": {
        "colab": {
          "base_uri": "https://localhost:8080/"
        },
        "id": "hWDozzWDcHxX",
        "outputId": "eb8dee70-f4b9-4883-bd59-7f88acb3c2bc"
      },
      "execution_count": null,
      "outputs": [
        {
          "output_type": "stream",
          "name": "stdout",
          "text": [
            "BMI \n",
            " count    253680.000000\n",
            "mean         28.382364\n",
            "std           6.608694\n",
            "min          12.000000\n",
            "25%          24.000000\n",
            "50%          27.000000\n",
            "75%          31.000000\n",
            "max          98.000000\n",
            "Name: BMI, dtype: float64 \n",
            "\n",
            "MentHlth \n",
            " count    253680.000000\n",
            "mean          3.184772\n",
            "std           7.412847\n",
            "min           0.000000\n",
            "25%           0.000000\n",
            "50%           0.000000\n",
            "75%           2.000000\n",
            "max          30.000000\n",
            "Name: MentHlth, dtype: float64 \n",
            "\n",
            "PhysHlth \n",
            " count    253680.000000\n",
            "mean          4.242081\n",
            "std           8.717951\n",
            "min           0.000000\n",
            "25%           0.000000\n",
            "50%           0.000000\n",
            "75%           3.000000\n",
            "max          30.000000\n",
            "Name: PhysHlth, dtype: float64 \n",
            "\n"
          ]
        }
      ]
    },
    {
      "cell_type": "code",
      "source": [
        "#Exploratory Analysis of multicategory ordinal variables\n",
        "for i in df:\n",
        "  if len(set(df[i]))!=2 and i not in numeric_vars:\n",
        "    print('\\n',i,'\\n')\n",
        "    for v in set(df[i]):\n",
        "      print(f'Proportion when {i}={v}', len(df[df[i]==v])/len(df))"
      ],
      "metadata": {
        "colab": {
          "base_uri": "https://localhost:8080/"
        },
        "id": "JLLg7JwEeN4J",
        "outputId": "a3d1bae3-c6bc-43bc-ce28-513d28688c34"
      },
      "execution_count": null,
      "outputs": [
        {
          "output_type": "stream",
          "name": "stdout",
          "text": [
            "\n",
            " GenHlth \n",
            "\n",
            "Proportion when GenHlth=1 0.1785674865972879\n",
            "Proportion when GenHlth=2 0.3511668243456323\n",
            "Proportion when GenHlth=3 0.29819457584358244\n",
            "Proportion when GenHlth=4 0.12444812362030905\n",
            "Proportion when GenHlth=5 0.04762298959318827\n",
            "\n",
            " Age \n",
            "\n",
            "Proportion when Age=1 0.022469252601702933\n",
            "Proportion when Age=2 0.029951119520655944\n",
            "Proportion when Age=3 0.04384657836644592\n",
            "Proportion when Age=4 0.054489908546199936\n",
            "Proportion when Age=5 0.06369047619047619\n",
            "Proportion when Age=6 0.07812598549353517\n",
            "Proportion when Age=7 0.10372910753705455\n",
            "Proportion when Age=8 0.12153894670450961\n",
            "Proportion when Age=9 0.13104698833175654\n",
            "Proportion when Age=10 0.12690791548407443\n",
            "Proportion when Age=11 0.09276647745190791\n",
            "Proportion when Age=12 0.06299274676758121\n",
            "Proportion when Age=13 0.06844449700409966\n",
            "\n",
            " Education \n",
            "\n",
            "Proportion when Education=1 0.0006859035004730369\n",
            "Proportion when Education=2 0.015937401450646482\n",
            "Proportion when Education=3 0.03736203090507726\n",
            "Proportion when Education=4 0.24735887732576475\n",
            "Proportion when Education=5 0.2755834121728161\n",
            "Proportion when Education=6 0.42307237464522235\n",
            "\n",
            " Income \n",
            "\n",
            "Proportion when Income=1 0.03867470829391359\n",
            "Proportion when Income=2 0.046448281299274675\n",
            "Proportion when Income=3 0.0630479344055503\n",
            "Proportion when Income=4 0.07937164932198044\n",
            "Proportion when Income=5 0.10203011668243456\n",
            "Proportion when Income=6 0.1437637969094923\n",
            "Proportion when Income=7 0.17036818038473667\n",
            "Proportion when Income=8 0.3562953327026175\n"
          ]
        }
      ]
    },
    {
      "cell_type": "code",
      "source": [
        "#Split data into Train, Test and Validation sets (60-20-20 split)\n",
        "train= df.sample(frac=0.6, random_state=50)\n",
        "other= df.drop(train.index)\n",
        "test= other.sample(frac=0.5, random_state=50)\n",
        "validation= other.drop(test.index)"
      ],
      "metadata": {
        "id": "PUmadtS1OJu7"
      },
      "execution_count": null,
      "outputs": []
    },
    {
      "cell_type": "code",
      "source": [
        "#Define X_train, Y_train, X_test, Y_test, X_validation, Y_validation\n",
        "Y_train= train['Diabetes_binary']\n",
        "X_train=train.drop('Diabetes_binary', axis=1)\n",
        "Y_validation= validation['Diabetes_binary']\n",
        "X_validation=validation.drop('Diabetes_binary', axis=1)\n",
        "Y_test= test['Diabetes_binary']\n",
        "X_test=test.drop('Diabetes_binary', axis=1)"
      ],
      "metadata": {
        "id": "tA7ht1iaPyvn"
      },
      "execution_count": null,
      "outputs": []
    },
    {
      "cell_type": "code",
      "source": [
        "for i in df:\n",
        "  print(i)"
      ],
      "metadata": {
        "colab": {
          "base_uri": "https://localhost:8080/"
        },
        "id": "jsc_-RMS1uG5",
        "outputId": "87a46a05-d1b0-4583-828a-103e8244d1c9"
      },
      "execution_count": null,
      "outputs": [
        {
          "output_type": "stream",
          "name": "stdout",
          "text": [
            "Diabetes_binary\n",
            "HighBP\n",
            "HighChol\n",
            "CholCheck\n",
            "BMI\n",
            "Smoker\n",
            "Stroke\n",
            "HeartDiseaseorAttack\n",
            "PhysActivity\n",
            "Fruits\n",
            "Veggies\n",
            "HvyAlcoholConsump\n",
            "AnyHealthcare\n",
            "NoDocbcCost\n",
            "GenHlth\n",
            "MentHlth\n",
            "PhysHlth\n",
            "DiffWalk\n",
            "Sex\n",
            "Age\n",
            "Education\n",
            "Income\n"
          ]
        }
      ]
    },
    {
      "cell_type": "code",
      "source": [
        "scaler= StandardScaler()"
      ],
      "metadata": {
        "id": "6U6ZcDL778lo"
      },
      "execution_count": null,
      "outputs": []
    },
    {
      "cell_type": "code",
      "source": [
        "#Use standard scaler to scale numeric variables\n",
        "X_train[['BMI','MentHlth','PhysHlth']]= scaler.fit_transform(X_train[['BMI','MentHlth','PhysHlth']])\n",
        "X_test[['BMI','MentHlth','PhysHlth']]= scaler.transform(X_test[['BMI','MentHlth','PhysHlth']])\n",
        "X_validation[['BMI','MentHlth','PhysHlth']]= scaler.transform(X_validation[['BMI','MentHlth','PhysHlth']])"
      ],
      "metadata": {
        "id": "peyHfwjBN5HJ"
      },
      "execution_count": null,
      "outputs": []
    },
    {
      "cell_type": "code",
      "source": [
        "#Explore class imbalance in training set. Imbalance appears to be significant.\n",
        "len(train[train['Diabetes_binary']==1])/len(train)"
      ],
      "metadata": {
        "colab": {
          "base_uri": "https://localhost:8080/"
        },
        "id": "6_hlMSsjzKcx",
        "outputId": "d011050e-c8cb-455c-d55a-a72e4589900a"
      },
      "execution_count": null,
      "outputs": [
        {
          "output_type": "execute_result",
          "data": {
            "text/plain": [
              "0.13967728371701882"
            ]
          },
          "metadata": {},
          "execution_count": 18
        }
      ]
    },
    {
      "cell_type": "code",
      "source": [
        "#Use SMOTE to oversample the minority class in the training set\n",
        "smote=SMOTE(random_state=50)\n",
        "X_train_oversampled, Y_train_oversampled= smote.fit_resample(X_train, Y_train)"
      ],
      "metadata": {
        "id": "rhSdW8378wZk"
      },
      "execution_count": null,
      "outputs": []
    },
    {
      "cell_type": "markdown",
      "source": [
        "# XGBoost"
      ],
      "metadata": {
        "id": "jneaEDArsI_f"
      }
    },
    {
      "cell_type": "markdown",
      "source": [
        "Model 1, begin with a radom set of values for hyperparameters"
      ],
      "metadata": {
        "id": "3JU9OX5ZlHQn"
      }
    },
    {
      "cell_type": "code",
      "source": [
        "model= XGBClassifier(n_estimators=20, max_depth=20, learning_rate=0.1,reg_lambda=0.5)"
      ],
      "metadata": {
        "id": "36OoBjlahwdR"
      },
      "execution_count": null,
      "outputs": []
    },
    {
      "cell_type": "code",
      "source": [
        "model.fit(X_train_oversampled, Y_train_oversampled)"
      ],
      "metadata": {
        "colab": {
          "base_uri": "https://localhost:8080/",
          "height": 248
        },
        "id": "WPc-whgwlGI7",
        "outputId": "8ad9546b-5a36-42cd-a456-b0eee6ee261c"
      },
      "execution_count": null,
      "outputs": [
        {
          "output_type": "execute_result",
          "data": {
            "text/plain": [
              "XGBClassifier(base_score=None, booster=None, callbacks=None,\n",
              "              colsample_bylevel=None, colsample_bynode=None,\n",
              "              colsample_bytree=None, device=None, early_stopping_rounds=None,\n",
              "              enable_categorical=False, eval_metric=None, feature_types=None,\n",
              "              gamma=None, grow_policy=None, importance_type=None,\n",
              "              interaction_constraints=None, learning_rate=0.1, max_bin=None,\n",
              "              max_cat_threshold=None, max_cat_to_onehot=None,\n",
              "              max_delta_step=None, max_depth=20, max_leaves=None,\n",
              "              min_child_weight=None, missing=nan, monotone_constraints=None,\n",
              "              multi_strategy=None, n_estimators=20, n_jobs=None,\n",
              "              num_parallel_tree=None, random_state=None, ...)"
            ],
            "text/html": [
              "<style>#sk-container-id-1 {color: black;background-color: white;}#sk-container-id-1 pre{padding: 0;}#sk-container-id-1 div.sk-toggleable {background-color: white;}#sk-container-id-1 label.sk-toggleable__label {cursor: pointer;display: block;width: 100%;margin-bottom: 0;padding: 0.3em;box-sizing: border-box;text-align: center;}#sk-container-id-1 label.sk-toggleable__label-arrow:before {content: \"▸\";float: left;margin-right: 0.25em;color: #696969;}#sk-container-id-1 label.sk-toggleable__label-arrow:hover:before {color: black;}#sk-container-id-1 div.sk-estimator:hover label.sk-toggleable__label-arrow:before {color: black;}#sk-container-id-1 div.sk-toggleable__content {max-height: 0;max-width: 0;overflow: hidden;text-align: left;background-color: #f0f8ff;}#sk-container-id-1 div.sk-toggleable__content pre {margin: 0.2em;color: black;border-radius: 0.25em;background-color: #f0f8ff;}#sk-container-id-1 input.sk-toggleable__control:checked~div.sk-toggleable__content {max-height: 200px;max-width: 100%;overflow: auto;}#sk-container-id-1 input.sk-toggleable__control:checked~label.sk-toggleable__label-arrow:before {content: \"▾\";}#sk-container-id-1 div.sk-estimator input.sk-toggleable__control:checked~label.sk-toggleable__label {background-color: #d4ebff;}#sk-container-id-1 div.sk-label input.sk-toggleable__control:checked~label.sk-toggleable__label {background-color: #d4ebff;}#sk-container-id-1 input.sk-hidden--visually {border: 0;clip: rect(1px 1px 1px 1px);clip: rect(1px, 1px, 1px, 1px);height: 1px;margin: -1px;overflow: hidden;padding: 0;position: absolute;width: 1px;}#sk-container-id-1 div.sk-estimator {font-family: monospace;background-color: #f0f8ff;border: 1px dotted black;border-radius: 0.25em;box-sizing: border-box;margin-bottom: 0.5em;}#sk-container-id-1 div.sk-estimator:hover {background-color: #d4ebff;}#sk-container-id-1 div.sk-parallel-item::after {content: \"\";width: 100%;border-bottom: 1px solid gray;flex-grow: 1;}#sk-container-id-1 div.sk-label:hover label.sk-toggleable__label {background-color: #d4ebff;}#sk-container-id-1 div.sk-serial::before {content: \"\";position: absolute;border-left: 1px solid gray;box-sizing: border-box;top: 0;bottom: 0;left: 50%;z-index: 0;}#sk-container-id-1 div.sk-serial {display: flex;flex-direction: column;align-items: center;background-color: white;padding-right: 0.2em;padding-left: 0.2em;position: relative;}#sk-container-id-1 div.sk-item {position: relative;z-index: 1;}#sk-container-id-1 div.sk-parallel {display: flex;align-items: stretch;justify-content: center;background-color: white;position: relative;}#sk-container-id-1 div.sk-item::before, #sk-container-id-1 div.sk-parallel-item::before {content: \"\";position: absolute;border-left: 1px solid gray;box-sizing: border-box;top: 0;bottom: 0;left: 50%;z-index: -1;}#sk-container-id-1 div.sk-parallel-item {display: flex;flex-direction: column;z-index: 1;position: relative;background-color: white;}#sk-container-id-1 div.sk-parallel-item:first-child::after {align-self: flex-end;width: 50%;}#sk-container-id-1 div.sk-parallel-item:last-child::after {align-self: flex-start;width: 50%;}#sk-container-id-1 div.sk-parallel-item:only-child::after {width: 0;}#sk-container-id-1 div.sk-dashed-wrapped {border: 1px dashed gray;margin: 0 0.4em 0.5em 0.4em;box-sizing: border-box;padding-bottom: 0.4em;background-color: white;}#sk-container-id-1 div.sk-label label {font-family: monospace;font-weight: bold;display: inline-block;line-height: 1.2em;}#sk-container-id-1 div.sk-label-container {text-align: center;}#sk-container-id-1 div.sk-container {/* jupyter's `normalize.less` sets `[hidden] { display: none; }` but bootstrap.min.css set `[hidden] { display: none !important; }` so we also need the `!important` here to be able to override the default hidden behavior on the sphinx rendered scikit-learn.org. See: https://github.com/scikit-learn/scikit-learn/issues/21755 */display: inline-block !important;position: relative;}#sk-container-id-1 div.sk-text-repr-fallback {display: none;}</style><div id=\"sk-container-id-1\" class=\"sk-top-container\"><div class=\"sk-text-repr-fallback\"><pre>XGBClassifier(base_score=None, booster=None, callbacks=None,\n",
              "              colsample_bylevel=None, colsample_bynode=None,\n",
              "              colsample_bytree=None, device=None, early_stopping_rounds=None,\n",
              "              enable_categorical=False, eval_metric=None, feature_types=None,\n",
              "              gamma=None, grow_policy=None, importance_type=None,\n",
              "              interaction_constraints=None, learning_rate=0.1, max_bin=None,\n",
              "              max_cat_threshold=None, max_cat_to_onehot=None,\n",
              "              max_delta_step=None, max_depth=20, max_leaves=None,\n",
              "              min_child_weight=None, missing=nan, monotone_constraints=None,\n",
              "              multi_strategy=None, n_estimators=20, n_jobs=None,\n",
              "              num_parallel_tree=None, random_state=None, ...)</pre><b>In a Jupyter environment, please rerun this cell to show the HTML representation or trust the notebook. <br />On GitHub, the HTML representation is unable to render, please try loading this page with nbviewer.org.</b></div><div class=\"sk-container\" hidden><div class=\"sk-item\"><div class=\"sk-estimator sk-toggleable\"><input class=\"sk-toggleable__control sk-hidden--visually\" id=\"sk-estimator-id-1\" type=\"checkbox\" checked><label for=\"sk-estimator-id-1\" class=\"sk-toggleable__label sk-toggleable__label-arrow\">XGBClassifier</label><div class=\"sk-toggleable__content\"><pre>XGBClassifier(base_score=None, booster=None, callbacks=None,\n",
              "              colsample_bylevel=None, colsample_bynode=None,\n",
              "              colsample_bytree=None, device=None, early_stopping_rounds=None,\n",
              "              enable_categorical=False, eval_metric=None, feature_types=None,\n",
              "              gamma=None, grow_policy=None, importance_type=None,\n",
              "              interaction_constraints=None, learning_rate=0.1, max_bin=None,\n",
              "              max_cat_threshold=None, max_cat_to_onehot=None,\n",
              "              max_delta_step=None, max_depth=20, max_leaves=None,\n",
              "              min_child_weight=None, missing=nan, monotone_constraints=None,\n",
              "              multi_strategy=None, n_estimators=20, n_jobs=None,\n",
              "              num_parallel_tree=None, random_state=None, ...)</pre></div></div></div></div></div>"
            ]
          },
          "metadata": {},
          "execution_count": 38
        }
      ]
    },
    {
      "cell_type": "code",
      "source": [
        "predicted= model.predict(X_test)"
      ],
      "metadata": {
        "id": "VotDc-D9ygjs"
      },
      "execution_count": null,
      "outputs": []
    },
    {
      "cell_type": "code",
      "source": [
        "print('auc_score',roc_auc_score(Y_test, predicted))\n",
        "print(classification_report(Y_test, predicted))"
      ],
      "metadata": {
        "colab": {
          "base_uri": "https://localhost:8080/"
        },
        "id": "1E1Vhz76y4iy",
        "outputId": "c5c6b32a-45a1-4117-b5d9-38f8496b4a6d"
      },
      "execution_count": null,
      "outputs": [
        {
          "output_type": "stream",
          "name": "stdout",
          "text": [
            "auc_score 0.6656249315380033\n",
            "              precision    recall  f1-score   support\n",
            "\n",
            "           0       0.91      0.88      0.89     43720\n",
            "           1       0.37      0.46      0.41      7016\n",
            "\n",
            "    accuracy                           0.82     50736\n",
            "   macro avg       0.64      0.67      0.65     50736\n",
            "weighted avg       0.83      0.82      0.83     50736\n",
            "\n"
          ]
        }
      ]
    },
    {
      "cell_type": "markdown",
      "source": [
        "Model 1a, Increase number of trees."
      ],
      "metadata": {
        "id": "NnCjY-b9zTKJ"
      }
    },
    {
      "cell_type": "code",
      "source": [
        "model= XGBClassifier(n_estimators=100, max_depth=20, learning_rate=0.1,reg_lambda=0.5)\n",
        "model.fit(X_train_oversampled, Y_train_oversampled)\n",
        "predicted= model.predict(X_test)"
      ],
      "metadata": {
        "id": "UTi0PXabzRGV"
      },
      "execution_count": null,
      "outputs": []
    },
    {
      "cell_type": "code",
      "source": [
        "print('auc_score',roc_auc_score(Y_test, predicted))\n",
        "print(classification_report(Y_test, predicted))"
      ],
      "metadata": {
        "colab": {
          "base_uri": "https://localhost:8080/"
        },
        "id": "TfvPiaGiz7kr",
        "outputId": "c64aff03-6b0b-41db-b2e6-bf8345904da0"
      },
      "execution_count": null,
      "outputs": [
        {
          "output_type": "stream",
          "name": "stdout",
          "text": [
            "auc_score 0.6176533235756514\n",
            "              precision    recall  f1-score   support\n",
            "\n",
            "           0       0.89      0.92      0.91     43720\n",
            "           1       0.40      0.31      0.35      7016\n",
            "\n",
            "    accuracy                           0.84     50736\n",
            "   macro avg       0.65      0.62      0.63     50736\n",
            "weighted avg       0.82      0.84      0.83     50736\n",
            "\n"
          ]
        }
      ]
    },
    {
      "cell_type": "markdown",
      "source": [
        "Model 1b, Decrease the learning rate."
      ],
      "metadata": {
        "id": "ulj90DpA0JdB"
      }
    },
    {
      "cell_type": "code",
      "source": [
        "model= XGBClassifier(n_estimators=20, max_depth=20, learning_rate=0.05,reg_lambda=0.5)\n",
        "model.fit(X_train_oversampled, Y_train_oversampled)\n",
        "predicted= model.predict(X_test)"
      ],
      "metadata": {
        "id": "2C0ASg5m0WZq"
      },
      "execution_count": null,
      "outputs": []
    },
    {
      "cell_type": "code",
      "source": [
        "print('auc_score',roc_auc_score(Y_test, predicted))\n",
        "print(classification_report(Y_test, predicted))"
      ],
      "metadata": {
        "colab": {
          "base_uri": "https://localhost:8080/"
        },
        "id": "E3rK4aYM0bRB",
        "outputId": "2dd16ce2-a962-4ea8-ca48-9fa9bb3ed780"
      },
      "execution_count": null,
      "outputs": [
        {
          "output_type": "stream",
          "name": "stdout",
          "text": [
            "auc_score 0.6680918976465765\n",
            "              precision    recall  f1-score   support\n",
            "\n",
            "           0       0.91      0.86      0.89     43720\n",
            "           1       0.35      0.48      0.41      7016\n",
            "\n",
            "    accuracy                           0.81     50736\n",
            "   macro avg       0.63      0.67      0.65     50736\n",
            "weighted avg       0.83      0.81      0.82     50736\n",
            "\n"
          ]
        }
      ]
    },
    {
      "cell_type": "markdown",
      "source": [
        "Model 1c, decrease lambda."
      ],
      "metadata": {
        "id": "WRSxbdJ2o2Ts"
      }
    },
    {
      "cell_type": "code",
      "source": [
        "model= XGBClassifier(n_estimators=20, max_depth=20, learning_rate=0.1,reg_lambda=0.01)\n",
        "model.fit(X_train_oversampled, Y_train_oversampled)\n",
        "predicted= model.predict(X_test)"
      ],
      "metadata": {
        "id": "u7GCv0h-o_BM"
      },
      "execution_count": null,
      "outputs": []
    },
    {
      "cell_type": "code",
      "source": [
        "print('auc_score',roc_auc_score(Y_test, predicted))\n",
        "print(classification_report(Y_test, predicted))"
      ],
      "metadata": {
        "colab": {
          "base_uri": "https://localhost:8080/"
        },
        "id": "7_J_-xRCrb-j",
        "outputId": "d95cc9c7-d6b7-46e2-a3d8-736bad68d8cf"
      },
      "execution_count": null,
      "outputs": [
        {
          "output_type": "stream",
          "name": "stdout",
          "text": [
            "auc_score 0.6598937104680871\n",
            "              precision    recall  f1-score   support\n",
            "\n",
            "           0       0.91      0.88      0.89     43720\n",
            "           1       0.37      0.44      0.40      7016\n",
            "\n",
            "    accuracy                           0.82     50736\n",
            "   macro avg       0.64      0.66      0.65     50736\n",
            "weighted avg       0.83      0.82      0.82     50736\n",
            "\n"
          ]
        }
      ]
    },
    {
      "cell_type": "markdown",
      "source": [
        "Model 1d, increase max_depth."
      ],
      "metadata": {
        "id": "0VqE8hsmrm6n"
      }
    },
    {
      "cell_type": "code",
      "source": [
        "model= XGBClassifier(n_estimators=20, max_depth=100, learning_rate=0.1,reg_lambda=0.5)\n",
        "model.fit(X_train_oversampled, Y_train_oversampled)\n",
        "predicted= model.predict(X_test)"
      ],
      "metadata": {
        "id": "O_1a9v16eKJP"
      },
      "execution_count": null,
      "outputs": []
    },
    {
      "cell_type": "code",
      "source": [
        "print('auc_score',roc_auc_score(Y_test, predicted))\n",
        "print(classification_report(Y_test, predicted))"
      ],
      "metadata": {
        "colab": {
          "base_uri": "https://localhost:8080/"
        },
        "id": "ifO6fb-keNGz",
        "outputId": "5af0e1c2-c0c9-4a55-a55f-d0d371759140"
      },
      "execution_count": null,
      "outputs": [
        {
          "output_type": "stream",
          "name": "stdout",
          "text": [
            "auc_score 0.6196694967769396\n",
            "              precision    recall  f1-score   support\n",
            "\n",
            "           0       0.89      0.90      0.90     43720\n",
            "           1       0.35      0.34      0.35      7016\n",
            "\n",
            "    accuracy                           0.82     50736\n",
            "   macro avg       0.62      0.62      0.62     50736\n",
            "weighted avg       0.82      0.82      0.82     50736\n",
            "\n"
          ]
        }
      ]
    },
    {
      "cell_type": "markdown",
      "source": [
        "Model 1e, decrease learning rate by more"
      ],
      "metadata": {
        "id": "hmJ96wKng60s"
      }
    },
    {
      "cell_type": "code",
      "source": [
        "model= XGBClassifier(n_estimators=20, max_depth=20, learning_rate=0.01,reg_lambda=0.5)\n",
        "model.fit(X_train_oversampled, Y_train_oversampled)\n",
        "predicted= model.predict(X_test)"
      ],
      "metadata": {
        "id": "EQLAsu5lhJ1l"
      },
      "execution_count": null,
      "outputs": []
    },
    {
      "cell_type": "code",
      "source": [
        "print('auc_score',roc_auc_score(Y_test, predicted))\n",
        "print(classification_report(Y_test, predicted))"
      ],
      "metadata": {
        "colab": {
          "base_uri": "https://localhost:8080/"
        },
        "id": "CLHXentPhLkl",
        "outputId": "27e8e39b-8143-4792-d118-d2f5fed72ac5"
      },
      "execution_count": null,
      "outputs": [
        {
          "output_type": "stream",
          "name": "stdout",
          "text": [
            "auc_score 0.6657792905198522\n",
            "              precision    recall  f1-score   support\n",
            "\n",
            "           0       0.91      0.84      0.87     43720\n",
            "           1       0.33      0.49      0.39      7016\n",
            "\n",
            "    accuracy                           0.79     50736\n",
            "   macro avg       0.62      0.67      0.63     50736\n",
            "weighted avg       0.83      0.79      0.81     50736\n",
            "\n"
          ]
        }
      ]
    },
    {
      "cell_type": "markdown",
      "source": [
        "Model 1f, Set learning rate to 0.05 and decrease max depth"
      ],
      "metadata": {
        "id": "fLmuyn8PiksK"
      }
    },
    {
      "cell_type": "code",
      "source": [
        "model= XGBClassifier(n_estimators=20, max_depth=10, learning_rate=0.05,reg_lambda=0.5)\n",
        "model.fit(X_train_oversampled, Y_train_oversampled)\n",
        "predicted= model.predict(X_test)"
      ],
      "metadata": {
        "id": "rza1uv08ihdW"
      },
      "execution_count": null,
      "outputs": []
    },
    {
      "cell_type": "code",
      "source": [
        "print('auc_score',roc_auc_score(Y_test, predicted))\n",
        "print(classification_report(Y_test, predicted))"
      ],
      "metadata": {
        "colab": {
          "base_uri": "https://localhost:8080/"
        },
        "id": "IQ41PdJwipPS",
        "outputId": "b02dc993-70f5-4b5e-9f9b-23e4a0ca87ff"
      },
      "execution_count": null,
      "outputs": [
        {
          "output_type": "stream",
          "name": "stdout",
          "text": [
            "auc_score 0.7093041679141964\n",
            "              precision    recall  f1-score   support\n",
            "\n",
            "           0       0.93      0.81      0.86     43720\n",
            "           1       0.34      0.61      0.43      7016\n",
            "\n",
            "    accuracy                           0.78     50736\n",
            "   macro avg       0.63      0.71      0.65     50736\n",
            "weighted avg       0.85      0.78      0.80     50736\n",
            "\n"
          ]
        }
      ]
    },
    {
      "cell_type": "markdown",
      "source": [
        "Model 1g, Set learning rate to 0.05, max depth to 10, and increase lambda"
      ],
      "metadata": {
        "id": "eUTywdupi-xh"
      }
    },
    {
      "cell_type": "code",
      "source": [
        "model= XGBClassifier(n_estimators=20, max_depth=10, learning_rate=0.05,reg_lambda=10)\n",
        "model.fit(X_train_oversampled, Y_train_oversampled)\n",
        "predicted= model.predict(X_test)"
      ],
      "metadata": {
        "id": "mIt1diCwjI0D"
      },
      "execution_count": null,
      "outputs": []
    },
    {
      "cell_type": "code",
      "source": [
        "print('auc_score',roc_auc_score(Y_test, predicted))\n",
        "print(classification_report(Y_test, predicted))"
      ],
      "metadata": {
        "colab": {
          "base_uri": "https://localhost:8080/"
        },
        "id": "_Z3Rh-dwjLQA",
        "outputId": "3404a6fb-cb60-4ed9-a883-6ae0096a2f98"
      },
      "execution_count": null,
      "outputs": [
        {
          "output_type": "stream",
          "name": "stdout",
          "text": [
            "auc_score 0.7101346836560218\n",
            "              precision    recall  f1-score   support\n",
            "\n",
            "           0       0.93      0.81      0.86     43720\n",
            "           1       0.34      0.61      0.44      7016\n",
            "\n",
            "    accuracy                           0.78     50736\n",
            "   macro avg       0.63      0.71      0.65     50736\n",
            "weighted avg       0.85      0.78      0.80     50736\n",
            "\n"
          ]
        }
      ]
    },
    {
      "cell_type": "markdown",
      "source": [
        "Model 1h, Set learning rate to 0.05, max depth to 10, lambda to 10, and decrease the number of estimators"
      ],
      "metadata": {
        "id": "YJ5pd-C9jebd"
      }
    },
    {
      "cell_type": "code",
      "source": [
        "model= XGBClassifier(n_estimators=10, max_depth=10, learning_rate=0.05,reg_lambda=10)\n",
        "model.fit(X_train_oversampled, Y_train_oversampled)\n",
        "predicted= model.predict(X_test)"
      ],
      "metadata": {
        "id": "CCTeRL7BjoCY"
      },
      "execution_count": null,
      "outputs": []
    },
    {
      "cell_type": "code",
      "source": [
        "print('auc_score',roc_auc_score(Y_test, predicted))\n",
        "print(classification_report(Y_test, predicted))"
      ],
      "metadata": {
        "colab": {
          "base_uri": "https://localhost:8080/"
        },
        "id": "YVa_DiICk5kl",
        "outputId": "01212270-83bc-40fd-d606-9b45f3a38380"
      },
      "execution_count": null,
      "outputs": [
        {
          "output_type": "stream",
          "name": "stdout",
          "text": [
            "auc_score 0.7013098149204903\n",
            "              precision    recall  f1-score   support\n",
            "\n",
            "           0       0.93      0.81      0.86     43720\n",
            "           1       0.33      0.59      0.43      7016\n",
            "\n",
            "    accuracy                           0.78     50736\n",
            "   macro avg       0.63      0.70      0.65     50736\n",
            "weighted avg       0.84      0.78      0.80     50736\n",
            "\n"
          ]
        }
      ]
    },
    {
      "cell_type": "markdown",
      "source": [
        "Model 1i, Set learning rate to 0.05, max depth to 10, lambda to 10, and slightly increase the number of estimators"
      ],
      "metadata": {
        "id": "JOUOIY5R-t_W"
      }
    },
    {
      "cell_type": "code",
      "source": [
        "model= XGBClassifier(n_estimators=25, max_depth=10, learning_rate=0.05,reg_lambda=10)\n",
        "model.fit(X_train_oversampled, Y_train_oversampled)\n",
        "predicted= model.predict(X_test)"
      ],
      "metadata": {
        "id": "KexHGS-l-yIK"
      },
      "execution_count": null,
      "outputs": []
    },
    {
      "cell_type": "code",
      "source": [
        "print('auc_score',roc_auc_score(Y_test, predicted))\n",
        "print(classification_report(Y_test, predicted))"
      ],
      "metadata": {
        "colab": {
          "base_uri": "https://localhost:8080/"
        },
        "id": "QPcKrIJR_FU0",
        "outputId": "208b7cef-4c32-4e82-c038-fd0be28e1e81"
      },
      "execution_count": null,
      "outputs": [
        {
          "output_type": "stream",
          "name": "stdout",
          "text": [
            "auc_score 0.7164863269004266\n",
            "              precision    recall  f1-score   support\n",
            "\n",
            "           0       0.93      0.80      0.86     43720\n",
            "           1       0.34      0.63      0.44      7016\n",
            "\n",
            "    accuracy                           0.78     50736\n",
            "   macro avg       0.64      0.72      0.65     50736\n",
            "weighted avg       0.85      0.78      0.80     50736\n",
            "\n"
          ]
        }
      ]
    },
    {
      "cell_type": "markdown",
      "source": [
        "# Additive XGBoost"
      ],
      "metadata": {
        "id": "zqhnD6Ne-fKs"
      }
    },
    {
      "cell_type": "code",
      "source": [
        "#Define the function for an additive XGBoost Classifier\n",
        "def additive_xgbc(model):\n",
        "  list_predictions=[]\n",
        "  for i in X_train_oversampled:\n",
        "    predictor=X_train_oversampled[[i]]\n",
        "    model.fit(predictor, Y_train_oversampled)\n",
        "    predicted=model.predict(X_test[[i]])\n",
        "    list_predictions.append(predicted)\n",
        "  array_predictions=np.array(list_predictions)\n",
        "  mode_pred= mode(array_predictions, axis=0).mode.flatten()\n",
        "  return mode_pred"
      ],
      "metadata": {
        "id": "CtCsJX0--jx8"
      },
      "execution_count": null,
      "outputs": []
    },
    {
      "cell_type": "markdown",
      "source": [
        "Model 2, begin with a radom set of values for hyperparameters"
      ],
      "metadata": {
        "id": "6tKtLX8JEwpP"
      }
    },
    {
      "cell_type": "code",
      "source": [
        "model= XGBClassifier(n_estimators=20, learning_rate=0.1,reg_lambda=0.5)"
      ],
      "metadata": {
        "id": "PU2CHliBEwpP"
      },
      "execution_count": null,
      "outputs": []
    },
    {
      "cell_type": "code",
      "source": [
        "predicted= additive_xgbc(model)"
      ],
      "metadata": {
        "id": "b1lpe4RzEwpP"
      },
      "execution_count": null,
      "outputs": []
    },
    {
      "cell_type": "code",
      "source": [
        "print('auc_score',roc_auc_score(Y_test, predicted))\n",
        "print(classification_report(Y_test, predicted))"
      ],
      "metadata": {
        "colab": {
          "base_uri": "https://localhost:8080/"
        },
        "outputId": "d92704af-24cc-4c47-ee49-171838a9c2e7",
        "id": "sH4ML-m7EwpP"
      },
      "execution_count": null,
      "outputs": [
        {
          "output_type": "stream",
          "name": "stdout",
          "text": [
            "auc_score 0.6969203968239893\n",
            "              precision    recall  f1-score   support\n",
            "\n",
            "           0       0.93      0.73      0.82     43720\n",
            "           1       0.28      0.66      0.40      7016\n",
            "\n",
            "    accuracy                           0.72     50736\n",
            "   macro avg       0.61      0.70      0.61     50736\n",
            "weighted avg       0.84      0.72      0.76     50736\n",
            "\n"
          ]
        }
      ]
    },
    {
      "cell_type": "markdown",
      "source": [
        "model 2a, Increase number of estimators"
      ],
      "metadata": {
        "id": "eJ_sT4jjNlKm"
      }
    },
    {
      "cell_type": "code",
      "source": [
        "model= XGBClassifier(n_estimators=100, learning_rate=0.1,reg_lambda=0.5)"
      ],
      "metadata": {
        "id": "DJX2wKViNj3_"
      },
      "execution_count": null,
      "outputs": []
    },
    {
      "cell_type": "code",
      "source": [
        "predicted= additive_xgbc(model)"
      ],
      "metadata": {
        "id": "zdG7ky2cNu98"
      },
      "execution_count": null,
      "outputs": []
    },
    {
      "cell_type": "code",
      "source": [
        "print('auc_score',roc_auc_score(Y_test, predicted))\n",
        "print(classification_report(Y_test, predicted))"
      ],
      "metadata": {
        "colab": {
          "base_uri": "https://localhost:8080/"
        },
        "id": "RAwDGfJONxSK",
        "outputId": "9d381f29-7c7b-496f-dfc0-051bad3216bc"
      },
      "execution_count": null,
      "outputs": [
        {
          "output_type": "stream",
          "name": "stdout",
          "text": [
            "auc_score 0.68667785618234\n",
            "              precision    recall  f1-score   support\n",
            "\n",
            "           0       0.92      0.76      0.83     43720\n",
            "           1       0.29      0.62      0.39      7016\n",
            "\n",
            "    accuracy                           0.74     50736\n",
            "   macro avg       0.61      0.69      0.61     50736\n",
            "weighted avg       0.84      0.74      0.77     50736\n",
            "\n"
          ]
        }
      ]
    },
    {
      "cell_type": "markdown",
      "source": [
        "Model 2b, Decrease the learning rate."
      ],
      "metadata": {
        "id": "JU2O0VLHEwpQ"
      }
    },
    {
      "cell_type": "code",
      "source": [
        "model= XGBClassifier(n_estimators=20, learning_rate=0.05,reg_lambda=0.5)\n",
        "predicted= additive_xgbc(model)"
      ],
      "metadata": {
        "id": "nWtnpo3JEwpQ"
      },
      "execution_count": null,
      "outputs": []
    },
    {
      "cell_type": "code",
      "source": [
        "print('auc_score',roc_auc_score(Y_test, predicted))\n",
        "print(classification_report(Y_test, predicted))"
      ],
      "metadata": {
        "colab": {
          "base_uri": "https://localhost:8080/"
        },
        "outputId": "b7c34c45-152a-4325-9680-ebe76139b225",
        "id": "iCE1nQKlEwpQ"
      },
      "execution_count": null,
      "outputs": [
        {
          "output_type": "stream",
          "name": "stdout",
          "text": [
            "auc_score 0.698468642058252\n",
            "              precision    recall  f1-score   support\n",
            "\n",
            "           0       0.93      0.72      0.81     43720\n",
            "           1       0.28      0.68      0.40      7016\n",
            "\n",
            "    accuracy                           0.71     50736\n",
            "   macro avg       0.61      0.70      0.60     50736\n",
            "weighted avg       0.84      0.71      0.76     50736\n",
            "\n"
          ]
        }
      ]
    },
    {
      "cell_type": "markdown",
      "source": [
        "Model 2c, decrease lambda."
      ],
      "metadata": {
        "id": "dzKaIiEZEwpR"
      }
    },
    {
      "cell_type": "code",
      "source": [
        "model= XGBClassifier(n_estimators=20,learning_rate=0.1,reg_lambda=0.01)\n",
        "predicted= additive_xgbc(model)"
      ],
      "metadata": {
        "id": "410CN4HQEwpR"
      },
      "execution_count": null,
      "outputs": []
    },
    {
      "cell_type": "code",
      "source": [
        "print('auc_score',roc_auc_score(Y_test, predicted))\n",
        "print(classification_report(Y_test, predicted))"
      ],
      "metadata": {
        "colab": {
          "base_uri": "https://localhost:8080/"
        },
        "outputId": "219ab3d8-b555-470a-cc4f-4771f1eedae1",
        "id": "pEprMDb4EwpR"
      },
      "execution_count": null,
      "outputs": [
        {
          "output_type": "stream",
          "name": "stdout",
          "text": [
            "auc_score 0.6969203968239893\n",
            "              precision    recall  f1-score   support\n",
            "\n",
            "           0       0.93      0.73      0.82     43720\n",
            "           1       0.28      0.66      0.40      7016\n",
            "\n",
            "    accuracy                           0.72     50736\n",
            "   macro avg       0.61      0.70      0.61     50736\n",
            "weighted avg       0.84      0.72      0.76     50736\n",
            "\n"
          ]
        }
      ]
    },
    {
      "cell_type": "markdown",
      "source": [
        "Model 2d, decrease learning rate by more"
      ],
      "metadata": {
        "id": "OMdGojZYEwpR"
      }
    },
    {
      "cell_type": "code",
      "source": [
        "model= XGBClassifier(n_estimators=20, learning_rate=0.01,reg_lambda=0.5)\n",
        "predicted= additive_xgbc(model)"
      ],
      "metadata": {
        "id": "iMpUFUDrEwpS"
      },
      "execution_count": null,
      "outputs": []
    },
    {
      "cell_type": "code",
      "source": [
        "print('auc_score',roc_auc_score(Y_test, predicted))\n",
        "print(classification_report(Y_test, predicted))"
      ],
      "metadata": {
        "colab": {
          "base_uri": "https://localhost:8080/"
        },
        "outputId": "69d21ed7-c39a-4dfa-d498-c8e8e969b245",
        "id": "wAPIANOqEwpS"
      },
      "execution_count": null,
      "outputs": [
        {
          "output_type": "stream",
          "name": "stdout",
          "text": [
            "auc_score 0.6963058689014053\n",
            "              precision    recall  f1-score   support\n",
            "\n",
            "           0       0.94      0.69      0.80     43720\n",
            "           1       0.27      0.70      0.39      7016\n",
            "\n",
            "    accuracy                           0.69     50736\n",
            "   macro avg       0.60      0.70      0.59     50736\n",
            "weighted avg       0.84      0.69      0.74     50736\n",
            "\n"
          ]
        }
      ]
    },
    {
      "cell_type": "markdown",
      "source": [
        "Model 2e, Set learning rate to 0.05, and increase lambda"
      ],
      "metadata": {
        "id": "mnx9lS5nEwpS"
      }
    },
    {
      "cell_type": "code",
      "source": [
        "model= XGBClassifier(n_estimators=20, learning_rate=0.05,reg_lambda=10)\n",
        "predicted= additive_xgbc(model)"
      ],
      "metadata": {
        "id": "S4mbMq6wEwpS"
      },
      "execution_count": null,
      "outputs": []
    },
    {
      "cell_type": "code",
      "source": [
        "print('auc_score',roc_auc_score(Y_test, predicted))\n",
        "print(classification_report(Y_test, predicted))"
      ],
      "metadata": {
        "colab": {
          "base_uri": "https://localhost:8080/"
        },
        "outputId": "ca1ebf8b-6f9f-42a2-d6a9-16da106741ea",
        "id": "3lGIIn7-EwpT"
      },
      "execution_count": null,
      "outputs": [
        {
          "output_type": "stream",
          "name": "stdout",
          "text": [
            "auc_score 0.698468642058252\n",
            "              precision    recall  f1-score   support\n",
            "\n",
            "           0       0.93      0.72      0.81     43720\n",
            "           1       0.28      0.68      0.40      7016\n",
            "\n",
            "    accuracy                           0.71     50736\n",
            "   macro avg       0.61      0.70      0.60     50736\n",
            "weighted avg       0.84      0.71      0.76     50736\n",
            "\n"
          ]
        }
      ]
    },
    {
      "cell_type": "markdown",
      "source": [
        "Model 2f, Set learning rate to 0.05 and lambda to 10, and decrease the number of estimators"
      ],
      "metadata": {
        "id": "xPYFs6eDEwpT"
      }
    },
    {
      "cell_type": "code",
      "source": [
        "model= XGBClassifier(n_estimators=10, learning_rate=0.05,reg_lambda=10)\n",
        "predicted= additive_xgbc(model)"
      ],
      "metadata": {
        "id": "ny-d__kXEwpT"
      },
      "execution_count": null,
      "outputs": []
    },
    {
      "cell_type": "code",
      "source": [
        "print('auc_score',roc_auc_score(Y_test, predicted))\n",
        "print(classification_report(Y_test, predicted))"
      ],
      "metadata": {
        "colab": {
          "base_uri": "https://localhost:8080/"
        },
        "outputId": "b1fde561-e0b8-44a8-e56f-a8b9dc885d6d",
        "id": "eExsTGxyEwpT"
      },
      "execution_count": null,
      "outputs": [
        {
          "output_type": "stream",
          "name": "stdout",
          "text": [
            "auc_score 0.7013841711690754\n",
            "              precision    recall  f1-score   support\n",
            "\n",
            "           0       0.94      0.71      0.81     43720\n",
            "           1       0.28      0.69      0.40      7016\n",
            "\n",
            "    accuracy                           0.71     50736\n",
            "   macro avg       0.61      0.70      0.60     50736\n",
            "weighted avg       0.84      0.71      0.75     50736\n",
            "\n"
          ]
        }
      ]
    },
    {
      "cell_type": "markdown",
      "source": [
        "Model 2g, Set learning rate to 0.05 and lambda to 10, and slightly increase the number of estimators"
      ],
      "metadata": {
        "id": "qx9G0W91EwpT"
      }
    },
    {
      "cell_type": "code",
      "source": [
        "model= XGBClassifier(n_estimators=25, learning_rate=0.05,reg_lambda=10)\n",
        "predicted= additive_xgbc(model)"
      ],
      "metadata": {
        "id": "6Cgt8IiNEwpT"
      },
      "execution_count": null,
      "outputs": []
    },
    {
      "cell_type": "code",
      "source": [
        "print('auc_score',roc_auc_score(Y_test, predicted))\n",
        "print(classification_report(Y_test, predicted))"
      ],
      "metadata": {
        "colab": {
          "base_uri": "https://localhost:8080/"
        },
        "outputId": "385b5e06-88bd-4f14-fa3e-26205b830460",
        "id": "fXZtMiyrEwpT"
      },
      "execution_count": null,
      "outputs": [
        {
          "output_type": "stream",
          "name": "stdout",
          "text": [
            "auc_score 0.6983964244320392\n",
            "              precision    recall  f1-score   support\n",
            "\n",
            "           0       0.93      0.72      0.81     43720\n",
            "           1       0.28      0.67      0.40      7016\n",
            "\n",
            "    accuracy                           0.72     50736\n",
            "   macro avg       0.61      0.70      0.61     50736\n",
            "weighted avg       0.84      0.72      0.76     50736\n",
            "\n"
          ]
        }
      ]
    },
    {
      "cell_type": "markdown",
      "source": [
        "# Best Model Performance on Validation Set and Variable Importance Metrics"
      ],
      "metadata": {
        "id": "7iLSb7W8PaBM"
      }
    },
    {
      "cell_type": "markdown",
      "source": [
        "Performance on Validation Set"
      ],
      "metadata": {
        "id": "ai6S3WmexLHK"
      }
    },
    {
      "cell_type": "code",
      "source": [
        "model= XGBClassifier(n_estimators=25, max_depth=10, learning_rate=0.05,reg_lambda=10)\n",
        "model.fit(X_train_oversampled, Y_train_oversampled)\n",
        "predicted= model.predict(X_validation)"
      ],
      "metadata": {
        "id": "n-UQrps9QB3l"
      },
      "execution_count": null,
      "outputs": []
    },
    {
      "cell_type": "code",
      "source": [
        "print('auc_score',roc_auc_score(Y_validation, predicted))\n",
        "print(classification_report(Y_validation, predicted))"
      ],
      "metadata": {
        "colab": {
          "base_uri": "https://localhost:8080/"
        },
        "id": "1F935X2YVhmH",
        "outputId": "9cff136e-40ab-4b5d-9992-14b22256957f"
      },
      "execution_count": null,
      "outputs": [
        {
          "output_type": "stream",
          "name": "stdout",
          "text": [
            "auc_score 0.7182296260588363\n",
            "              precision    recall  f1-score   support\n",
            "\n",
            "           0       0.93      0.80      0.86     43666\n",
            "           1       0.34      0.63      0.45      7070\n",
            "\n",
            "    accuracy                           0.78     50736\n",
            "   macro avg       0.64      0.72      0.65     50736\n",
            "weighted avg       0.85      0.78      0.80     50736\n",
            "\n"
          ]
        }
      ]
    },
    {
      "cell_type": "markdown",
      "source": [
        "Variable Importance based on AUC score using permutation"
      ],
      "metadata": {
        "id": "FOwCbsSHxQIG"
      }
    },
    {
      "cell_type": "code",
      "source": [
        "baseline_auc= roc_auc_score(Y_validation, predicted)"
      ],
      "metadata": {
        "id": "ftvX7X3OuhK-"
      },
      "execution_count": null,
      "outputs": []
    },
    {
      "cell_type": "code",
      "source": [
        "list_vars=[]\n",
        "list_var_imp=[]\n",
        "for i in X_train_oversampled:\n",
        "  df_shuffled= X_train_oversampled.copy()\n",
        "  df_shuffled[i]= np.random.permutation(X_train_oversampled[i])\n",
        "  model.fit(df_shuffled, Y_train_oversampled)\n",
        "  pred_s=model.predict(X_validation)\n",
        "  new_auc= roc_auc_score(Y_validation, pred_s)\n",
        "  var_importance= new_auc - baseline_auc\n",
        "  list_vars.append(i)\n",
        "  list_var_imp.append(var_importance)"
      ],
      "metadata": {
        "id": "i_2s9TOCWGTf"
      },
      "execution_count": null,
      "outputs": []
    },
    {
      "cell_type": "code",
      "source": [
        "array_vars= np.array(list_vars)\n",
        "array_var_imp=np.array(list_var_imp)\n",
        "df_var_imp= pd.DataFrame(array_vars, columns=['Predictor'])\n",
        "df_var_imp['Importance (AUC)']= array_var_imp\n",
        "print(df_var_imp.sort_values(by='Importance (AUC)', ascending=True))"
      ],
      "metadata": {
        "colab": {
          "base_uri": "https://localhost:8080/"
        },
        "id": "AGeJzxikwT8N",
        "outputId": "d221c1e1-f760-4337-f8ca-91bf78c918e8"
      },
      "execution_count": null,
      "outputs": [
        {
          "output_type": "stream",
          "name": "stdout",
          "text": [
            "               Predictor  Importance (AUC)\n",
            "13               GenHlth         -0.028945\n",
            "0                 HighBP         -0.021216\n",
            "18                   Age         -0.009871\n",
            "10     HvyAlcoholConsump         -0.006227\n",
            "1               HighChol         -0.004020\n",
            "3                    BMI         -0.003649\n",
            "19             Education         -0.001517\n",
            "12           NoDocbcCost         -0.001138\n",
            "6   HeartDiseaseorAttack         -0.000084\n",
            "11         AnyHealthcare          0.000315\n",
            "2              CholCheck          0.000348\n",
            "16              DiffWalk          0.000355\n",
            "8                 Fruits          0.000363\n",
            "15              PhysHlth          0.000693\n",
            "17                   Sex          0.000726\n",
            "5                 Stroke          0.000952\n",
            "20                Income          0.001109\n",
            "7           PhysActivity          0.001242\n",
            "14              MentHlth          0.001849\n",
            "4                 Smoker          0.002708\n",
            "9                Veggies          0.003430\n"
          ]
        }
      ]
    },
    {
      "cell_type": "markdown",
      "source": [
        "Shapley Values"
      ],
      "metadata": {
        "id": "dEFPzdzLxYQR"
      }
    },
    {
      "cell_type": "code",
      "source": [
        "explainer = shap.Explainer(model, X_validation)\n",
        "shap_values = explainer.shap_values(X_validation)\n",
        "shap.summary_plot(shap_values, X_validation)"
      ],
      "metadata": {
        "colab": {
          "base_uri": "https://localhost:8080/",
          "height": 975
        },
        "id": "4iPkJfwDxadJ",
        "outputId": "4db7f3cd-6414-4be1-ba99-2333f9a00e87"
      },
      "execution_count": null,
      "outputs": [
        {
          "output_type": "stream",
          "name": "stderr",
          "text": [
            "100%|===================| 50642/50736 [04:15<00:00]       "
          ]
        },
        {
          "output_type": "display_data",
          "data": {
            "text/plain": [
              "<Figure size 800x950 with 2 Axes>"
            ],
            "image/png": "[encoded data removed]"
          },
          "metadata": {}
        }
      ]
    }
  ]
}